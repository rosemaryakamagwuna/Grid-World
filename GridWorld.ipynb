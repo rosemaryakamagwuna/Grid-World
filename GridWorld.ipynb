{
  "nbformat": 4,
  "nbformat_minor": 0,
  "metadata": {
    "colab": {
      "provenance": []
    },
    "kernelspec": {
      "name": "python3",
      "display_name": "Python 3"
    },
    "language_info": {
      "name": "python"
    }
  },
  "cells": [
    {
      "cell_type": "code",
      "execution_count": 1,
      "metadata": {
        "id": "NPDOVE8TNoDn"
      },
      "outputs": [],
      "source": [
        "from typing import List, Tuple\n",
        "import numpy as np\n",
        "import matplotlib.pyplot as plt\n",
        "import matplotlib.patches as patches"
      ]
    },
    {
      "cell_type": "code",
      "source": [
        "class Environment:\n",
        "    def __init__(\n",
        "            self,\n",
        "            n_rows: int,\n",
        "            n_cols: int,\n",
        "            start: Tuple[int] = (2, 0),\n",
        "            win_grid: Tuple[int] = (0, 3),\n",
        "            lose_grid: Tuple[int] = (1, 3),\n",
        "            wall_grids: List[Tuple] = []\n",
        "            ) -> None:\n",
        "\n",
        "        self.n_rows = n_rows\n",
        "        self.n_cols = n_cols\n",
        "        self.start = start\n",
        "        self.win_grid = win_grid\n",
        "        self.lose_grid = lose_grid\n",
        "        self.wall_grids = wall_grids\n",
        "\n",
        "        self.shape = (n_rows, n_cols)\n",
        "\n",
        "        self.possible_actions = ('up', 'down', 'right', 'left')\n",
        "\n",
        "        self.reward_matrix = np.zeros((n_rows, n_cols)) - 1\n",
        "\n",
        "        self.reward_matrix[win_grid] = 10\n",
        "        self.reward_matrix[lose_grid] = -10\n",
        "\n",
        "        if len(wall_grids) > 0:\n",
        "            for wall in wall_grids:\n",
        "                self.reward_matrix[wall] = -5\n",
        "\n",
        "        # make a dictionary of possible actions per state, where keys are a tuple of the states, values are the list of possible actions for the state.\n",
        "        self.possible_actions_per_state = {}\n",
        "\n",
        "        for i in range(n_rows):\n",
        "            for j in range(n_cols):\n",
        "                state = (i, j)\n",
        "\n",
        "                func = lambda action: self.take_action(action, current_state=state) # returns a copy of take_action function that takes only one arguments\n",
        "                possible_new_states = np.array(list(map(func, self.possible_actions)))\n",
        "\n",
        "                is_valid_action = np.any(possible_new_states != np.array(state), axis=1) # bolean mask to filter\n",
        "\n",
        "                possible_new_states = possible_new_states[is_valid_action] # filter valid possible new states\n",
        "                possible_new_states = list(map(tuple, possible_new_states)) # change to list of tuples\n",
        "\n",
        "                valid_actions = np.array(self.possible_actions)[is_valid_action] # filter actions that lead to valid possible new states\n",
        "                valid_actions = list(valid_actions) # change to list\n",
        "\n",
        "                self.possible_actions_per_state[state] = (valid_actions, possible_new_states)\n",
        "\n",
        "    def take_action(self, action: str, current_state: Tuple) -> Tuple:\n",
        "\n",
        "        if not isinstance(action, str):\n",
        "            raise TypeError(f\"Invalid action type. Expected action of type 'str', but got type '{type(action).__name__}'\")\n",
        "\n",
        "        action = action.lower()\n",
        "\n",
        "        if action not in self.possible_actions:\n",
        "            raise ValueError(f\"Invalid action, expected any of {self.possible_actions} but got '{action}'\")\n",
        "\n",
        "        # # if current_state is not given, use the instance's state as the current state\n",
        "        # if current_state is None:\n",
        "        #     current_state = self.state\n",
        "\n",
        "        if action == 'up':\n",
        "            potential_state = (current_state[0] - 1, current_state[1])\n",
        "\n",
        "        elif action == 'down':\n",
        "            potential_state = (current_state[0] + 1, current_state[1])\n",
        "\n",
        "        elif action == 'right':\n",
        "            potential_state = (current_state[0], current_state[1] + 1)\n",
        "\n",
        "        elif action == 'left':\n",
        "            potential_state = (current_state[0], current_state[1] - 1)\n",
        "\n",
        "        # update state if potential state is valid\n",
        "        if potential_state not in self.wall_grids and \\\n",
        "        potential_state[0] in range(self.n_rows) and \\\n",
        "        potential_state[1] in range(self.n_cols):\n",
        "\n",
        "            return potential_state\n",
        "\n",
        "        return current_state\n",
        "\n",
        "    def get_reward(self, state: Tuple) -> float|int:\n",
        "        return self.reward_matrix[state]\n",
        "\n",
        "    def is_terminal_state(self, current_state: Tuple) -> bool:\n",
        "        if current_state == self.win_grid or current_state == self.lose_grid:\n",
        "            return True\n",
        "        return False\n",
        "\n",
        "    def plot_environment(self) -> Tuple[plt.figure, plt.axes]:\n",
        "        fig, ax = plt.subplots()\n",
        "\n",
        "        # Add colored rectangles for start, win, and lose\n",
        "        ax.add_patch(patches.Rectangle((self.start[1] - 0.5, self.start[0] - 0.5), 1, 1, color='lightblue'))\n",
        "        ax.add_patch(patches.Rectangle((self.win_grid[1] - 0.5, self.win_grid[0] - 0.5), 1, 1, color='lightgreen'))\n",
        "        ax.add_patch(patches.Rectangle((self.lose_grid[1] - 0.5, self.lose_grid[0] - 0.5), 1, 1, color='lightcoral'))\n",
        "\n",
        "        for wall in self.wall_grids:\n",
        "            ax.add_patch(patches.Rectangle((wall[1] - 0.5, wall[0] - 0.5), 1, 1, color='black'))\n",
        "\n",
        "        # Annotate the start, win, and lose\n",
        "        ax.text(self.start[1], self.start[0] + 0.2, 'S', ha='center', va='top', color='black', fontsize=10, fontweight='bold')\n",
        "        ax.text(self.win_grid[1], self.win_grid[0] + 0.2, 'W', ha='center', va='top', color='black', fontsize=10, fontweight='bold')\n",
        "        ax.text(self.lose_grid[1], self.lose_grid[0] + 0.2, 'L', ha='center', va='top', color='black', fontsize=10, fontweight='bold')\n",
        "\n",
        "        # Set minor ticks at every grid line\n",
        "        ax.set_xticks(np.arange(-0.5, self.n_cols, 1), minor=False)\n",
        "        ax.set_yticks(np.arange(-0.5, self.n_rows, 1), minor=False)\n",
        "\n",
        "        # Draw gridlines at the minor ticks\n",
        "        ax.grid(visible=True, which='major', axis='both', color='black', linestyle='-', linewidth=1)\n",
        "\n",
        "        # Optional: turn off tick labels and major ticks\n",
        "        ax.tick_params(which='both', bottom=False, left=False, labelbottom=False, labelleft=False)\n",
        "\n",
        "        # Set axis limits\n",
        "        ax.set_xlim(-0.5, self.n_cols - 0.5)\n",
        "        ax.set_ylim(self.n_rows - 0.5, -0.5)\n",
        "\n",
        "        return fig, ax"
      ],
      "metadata": {
        "id": "M_OPJCKmN_zC"
      },
      "execution_count": 2,
      "outputs": []
    },
    {
      "cell_type": "code",
      "source": [
        "class Agent():\n",
        "    def __init__(\n",
        "            self,\n",
        "            agent_env: Environment\n",
        "            ) -> None:\n",
        "\n",
        "        self.env = agent_env\n",
        "        self.state = self.env.start\n",
        "\n",
        "    def reset(self) -> None:\n",
        "        self.state = self.env.start\n",
        "\n",
        "    def choose_and_take_action(self, current_state: Tuple) -> Tuple:\n",
        "        possible_new_states = self.env.possible_actions_per_state[current_state][1]\n",
        "\n",
        "        if self.rand_gen.uniform(0, 1) <= self.exploration_rate: # random action\n",
        "            return possible_new_states[self.rand_gen.choice(np.arange(len(possible_new_states)))]\n",
        "\n",
        "        # else, use greedy policy for exploitation\n",
        "        states_indexes = list(zip(*possible_new_states))\n",
        "        return possible_new_states[np.argmax(self.V_values[*states_indexes])]\n",
        "\n",
        "    def train(self,\n",
        "            n_episodes: int,\n",
        "            learning_rate: float = 0.2,\n",
        "            discount_factor: float = 0.9,\n",
        "            exploration_rate: float = 0.1,\n",
        "            random_state: int|None = None\n",
        "              ):\n",
        "\n",
        "        self.lr = learning_rate\n",
        "        self.gamma = discount_factor\n",
        "        self.exploration_rate = exploration_rate\n",
        "\n",
        "        self.rand_gen = np.random.RandomState(random_state)\n",
        "\n",
        "        self.V_values = np.zeros(self.env.shape) # initialize V values to zeros\n",
        "\n",
        "        # print(f\"Starting state: {self.env.start}\")\n",
        "        for e in range(n_episodes):\n",
        "            self.reset() # reset agent's state to the start state before training begins for each episode\n",
        "            self.visited_states = [self.state] # list to hold all visited states\n",
        "\n",
        "            number_of_visits = np.zeros(self.env.shape)\n",
        "            number_of_visits[*self.state] = 1\n",
        "\n",
        "            while not self.env.is_terminal_state(self.state):\n",
        "\n",
        "                # change state by chosing and taking action\n",
        "                self.state = self.choose_and_take_action(current_state=self.state)\n",
        "\n",
        "                # keep track of visited states\n",
        "                self.visited_states.append(self.state)\n",
        "\n",
        "            G_return = 0\n",
        "\n",
        "            # calaculate the G returns starting from the final state in the episode to the start state of the episode\n",
        "            for i in range(len(self.visited_states) - 1, -1, -1):\n",
        "                target_state = self.visited_states[i] # target state i\n",
        "\n",
        "                G_return = self.env.get_reward(target_state) + self.gamma * G_return # G_{i - 1} = R_{i} + gamma * G_{i}\n",
        "\n",
        "                number_of_visits[*target_state] += 1\n",
        "\n",
        "                # incremental update: V(i) = V(i) + lr * (G(i)- V(i)) / N(i)\n",
        "                self.V_values[*target_state] +=  self.lr * (G_return - self.V_values[*target_state]) / number_of_visits[*target_state]\n",
        "\n",
        "            if (e + 1) % 5 == 0:\n",
        "                print(f\"Done with episode {e+1}\")\n",
        "\n",
        "    def get_policy_path(self, threshold:int = 50) -> List[Tuple]:\n",
        "        path = [self.env.start]\n",
        "\n",
        "        counter = 0 # to prevent infite loop if policy path is stuck in circles\n",
        "        while not self.env.is_terminal_state(path[-1]) and counter < threshold:\n",
        "            possible_next_states = self.env.possible_actions_per_state[path[-1]][1]\n",
        "            argmax_value = np.argmax(self.V_values[*list(zip(*possible_next_states))])\n",
        "\n",
        "            path.append(possible_next_states[argmax_value])\n",
        "\n",
        "            counter += 1\n",
        "\n",
        "        return path\n",
        "\n",
        "    def plot_policy_path(self) -> None:\n",
        "        # Create plot\n",
        "        fig, ax = self.env.plot_environment()\n",
        "\n",
        "        # Plot path step numbers\n",
        "        for i, (r, c) in enumerate(self.get_policy_path()):\n",
        "            ax.text(c, r, str(i), ha='center', va='center', color='blue', fontsize=12)\n",
        "\n",
        "        fig.show()"
      ],
      "metadata": {
        "id": "AcxDE4prEoZ4"
      },
      "execution_count": 3,
      "outputs": []
    },
    {
      "cell_type": "markdown",
      "source": [
        "#Try Some Cases"
      ],
      "metadata": {
        "id": "dy37ST5pr3E4"
      }
    },
    {
      "cell_type": "markdown",
      "source": [
        "ENVIRONMENT WITHOUT AGENT"
      ],
      "metadata": {
        "id": "R7E5J5dOvaQU"
      }
    },
    {
      "cell_type": "code",
      "source": [
        "my_env = Environment(3, 4, win_grid=(2, 3), lose_grid=(0, 2), wall_grids=[(2, 2)])\n",
        "my_env.plot_environment();"
      ],
      "metadata": {
        "colab": {
          "base_uri": "https://localhost:8080/",
          "height": 406
        },
        "id": "97UiE35ROWK_",
        "outputId": "9884df26-4e87-40b1-bc40-aa912ecd4202"
      },
      "execution_count": 4,
      "outputs": [
        {
          "output_type": "display_data",
          "data": {
            "text/plain": [
              "<Figure size 640x480 with 1 Axes>"
            ],
            "image/png": "[encoded data removed]"
          },
          "metadata": {}
        }
      ]
    },
    {
      "cell_type": "markdown",
      "source": [
        "ENVIRONMENT WITH AGENT\n"
      ],
      "metadata": {
        "id": "PXLFX0ukviFz"
      }
    },
    {
      "cell_type": "markdown",
      "source": [
        "CASE 1"
      ],
      "metadata": {
        "id": "MzL0FTYqz1hM"
      }
    },
    {
      "cell_type": "code",
      "source": [
        "my_agent = Agent(my_env)\n",
        "my_agent.train(100, random_state=42)"
      ],
      "metadata": {
        "colab": {
          "base_uri": "https://localhost:8080/"
        },
        "id": "zuWaXYU4od3Q",
        "outputId": "d4aa777a-df4e-4dd8-997a-7b3f666db152"
      },
      "execution_count": 5,
      "outputs": [
        {
          "output_type": "stream",
          "name": "stdout",
          "text": [
            "Done with episode 5\n",
            "Done with episode 10\n",
            "Done with episode 15\n",
            "Done with episode 20\n",
            "Done with episode 25\n",
            "Done with episode 30\n",
            "Done with episode 35\n",
            "Done with episode 40\n",
            "Done with episode 45\n",
            "Done with episode 50\n",
            "Done with episode 55\n",
            "Done with episode 60\n",
            "Done with episode 65\n",
            "Done with episode 70\n",
            "Done with episode 75\n",
            "Done with episode 80\n",
            "Done with episode 85\n",
            "Done with episode 90\n",
            "Done with episode 95\n",
            "Done with episode 100\n"
          ]
        }
      ]
    },
    {
      "cell_type": "code",
      "source": [
        "my_env.reward_matrix"
      ],
      "metadata": {
        "colab": {
          "base_uri": "https://localhost:8080/"
        },
        "id": "xo5r8rxj0rbc",
        "outputId": "bf809e44-06ef-4f0a-efdf-6531aafb56de"
      },
      "execution_count": 6,
      "outputs": [
        {
          "output_type": "execute_result",
          "data": {
            "text/plain": [
              "array([[ -1.,  -1., -10.,  -1.],\n",
              "       [ -1.,  -1.,  -1.,  -1.],\n",
              "       [ -1.,  -1.,  -5.,  10.]])"
            ]
          },
          "metadata": {},
          "execution_count": 6
        }
      ]
    },
    {
      "cell_type": "code",
      "source": [
        "my_agent.V_values"
      ],
      "metadata": {
        "colab": {
          "base_uri": "https://localhost:8080/"
        },
        "id": "z9EeDgE5guy4",
        "outputId": "a6cf346f-b1d6-4da0-8a65-67b5a02deed7"
      },
      "execution_count": 7,
      "outputs": [
        {
          "output_type": "execute_result",
          "data": {
            "text/plain": [
              "array([[-7.96388415, -5.93734323, -8.65782272,  3.19111333],\n",
              "       [ 2.08095187,  3.43965106,  4.96018473,  7.777822  ],\n",
              "       [ 0.62366073, -0.28133986,  0.        ,  9.99999998]])"
            ]
          },
          "metadata": {},
          "execution_count": 7
        }
      ]
    },
    {
      "cell_type": "code",
      "source": [
        "my_agent.plot_policy_path()"
      ],
      "metadata": {
        "colab": {
          "base_uri": "https://localhost:8080/",
          "height": 406
        },
        "id": "huYqYzd-p0Ih",
        "outputId": "0178e7c6-76c2-43ab-e965-6978cdd10a64"
      },
      "execution_count": 8,
      "outputs": [
        {
          "output_type": "display_data",
          "data": {
            "text/plain": [
              "<Figure size 640x480 with 1 Axes>"
            ],
            "image/png": "[encoded data removed]"
          },
          "metadata": {}
        }
      ]
    },
    {
      "cell_type": "markdown",
      "source": [
        "CASE 2"
      ],
      "metadata": {
        "id": "S_kAtjo-v2b9"
      }
    },
    {
      "cell_type": "code",
      "source": [
        "my_env = Environment(3, 4, win_grid=(0, 3), lose_grid=(1, 3), wall_grids=[(1, 1)])\n",
        "my_agent = Agent(my_env)\n",
        "my_agent.train(100, random_state=42)"
      ],
      "metadata": {
        "colab": {
          "base_uri": "https://localhost:8080/"
        },
        "id": "NveHm7Sjv5Xw",
        "outputId": "5b66b0a7-9961-4fd4-8b0d-2eeee6957c70"
      },
      "execution_count": 10,
      "outputs": [
        {
          "output_type": "stream",
          "name": "stdout",
          "text": [
            "Done with episode 5\n",
            "Done with episode 10\n",
            "Done with episode 15\n",
            "Done with episode 20\n",
            "Done with episode 25\n",
            "Done with episode 30\n",
            "Done with episode 35\n",
            "Done with episode 40\n",
            "Done with episode 45\n",
            "Done with episode 50\n",
            "Done with episode 55\n",
            "Done with episode 60\n",
            "Done with episode 65\n",
            "Done with episode 70\n",
            "Done with episode 75\n",
            "Done with episode 80\n",
            "Done with episode 85\n",
            "Done with episode 90\n",
            "Done with episode 95\n",
            "Done with episode 100\n"
          ]
        }
      ]
    },
    {
      "cell_type": "code",
      "source": [
        "my_agent = Agent(my_env)\n",
        "my_agent.train(100, random_state=42)"
      ],
      "metadata": {
        "colab": {
          "base_uri": "https://localhost:8080/"
        },
        "id": "hEF2pLEawWrt",
        "outputId": "2777ed9f-1e51-40e0-f557-3ca08c1ea04f"
      },
      "execution_count": 11,
      "outputs": [
        {
          "output_type": "stream",
          "name": "stdout",
          "text": [
            "Done with episode 5\n",
            "Done with episode 10\n",
            "Done with episode 15\n",
            "Done with episode 20\n",
            "Done with episode 25\n",
            "Done with episode 30\n",
            "Done with episode 35\n",
            "Done with episode 40\n",
            "Done with episode 45\n",
            "Done with episode 50\n",
            "Done with episode 55\n",
            "Done with episode 60\n",
            "Done with episode 65\n",
            "Done with episode 70\n",
            "Done with episode 75\n",
            "Done with episode 80\n",
            "Done with episode 85\n",
            "Done with episode 90\n",
            "Done with episode 95\n",
            "Done with episode 100\n"
          ]
        }
      ]
    },
    {
      "cell_type": "code",
      "source": [
        "my_agent.V_values"
      ],
      "metadata": {
        "colab": {
          "base_uri": "https://localhost:8080/"
        },
        "id": "TfurdCd-wYdF",
        "outputId": "882d8589-9b2e-46f6-9929-98ec0dd7eee5"
      },
      "execution_count": 12,
      "outputs": [
        {
          "output_type": "execute_result",
          "data": {
            "text/plain": [
              "array([[ 4.47462083,  6.17197756,  7.98456637, 10.        ],\n",
              "       [ 3.01410965,  0.        ,  3.76711943, -2.        ],\n",
              "       [ 1.54202466,  0.5754674 ,  2.00492557,  1.12392   ]])"
            ]
          },
          "metadata": {},
          "execution_count": 12
        }
      ]
    },
    {
      "cell_type": "code",
      "source": [
        "my_agent.plot_policy_path()"
      ],
      "metadata": {
        "colab": {
          "base_uri": "https://localhost:8080/",
          "height": 406
        },
        "id": "Diaw5SsTzPjc",
        "outputId": "a35916ed-c1ab-497d-fe6e-7beca5393789"
      },
      "execution_count": 13,
      "outputs": [
        {
          "output_type": "display_data",
          "data": {
            "text/plain": [
              "<Figure size 640x480 with 1 Axes>"
            ],
            "image/png": "[encoded data removed]"
          },
          "metadata": {}
        }
      ]
    },
    {
      "cell_type": "markdown",
      "source": [
        "CASE 3"
      ],
      "metadata": {
        "id": "ltoEjmauz9F2"
      }
    },
    {
      "cell_type": "code",
      "source": [
        "my_env2 = Environment(\n",
        "    10,\n",
        "    10,\n",
        "    start=(9, 0),\n",
        "    win_grid=(1, 7),\n",
        "    lose_grid=(2, 9),\n",
        "    wall_grids=[\n",
        "        (7, 0), (7, 1), (7, 2), (7, 3), (7, 4), (1, 4), (2, 4), (3, 4), (4, 4), (5, 4), (4, 5), (4, 6), (4, 7), (4, 8)\n",
        "        ]\n",
        "    )\n",
        "my_agent2 = Agent(my_env2)\n",
        "my_agent2.train(100, exploration_rate=0.7, random_state=42,)"
      ],
      "metadata": {
        "colab": {
          "base_uri": "https://localhost:8080/"
        },
        "id": "CwMM8s6BHmjp",
        "outputId": "a86587f0-5a3e-4071-ffaf-2f7bd783ad7a"
      },
      "execution_count": 14,
      "outputs": [
        {
          "output_type": "stream",
          "name": "stdout",
          "text": [
            "Done with episode 5\n",
            "Done with episode 10\n",
            "Done with episode 15\n",
            "Done with episode 20\n",
            "Done with episode 25\n",
            "Done with episode 30\n",
            "Done with episode 35\n",
            "Done with episode 40\n",
            "Done with episode 45\n",
            "Done with episode 50\n",
            "Done with episode 55\n",
            "Done with episode 60\n",
            "Done with episode 65\n",
            "Done with episode 70\n",
            "Done with episode 75\n",
            "Done with episode 80\n",
            "Done with episode 85\n",
            "Done with episode 90\n",
            "Done with episode 95\n",
            "Done with episode 100\n"
          ]
        }
      ]
    },
    {
      "cell_type": "code",
      "source": [
        "my_env2.reward_matrix"
      ],
      "metadata": {
        "colab": {
          "base_uri": "https://localhost:8080/"
        },
        "id": "x_Qm_DGn0ZfT",
        "outputId": "7f13b335-00cf-43a1-cf5b-079d21818f7b"
      },
      "execution_count": 16,
      "outputs": [
        {
          "output_type": "execute_result",
          "data": {
            "text/plain": [
              "array([[ -1.,  -1.,  -1.,  -1.,  -1.,  -1.,  -1.,  -1.,  -1.,  -1.],\n",
              "       [ -1.,  -1.,  -1.,  -1.,  -5.,  -1.,  -1.,  10.,  -1.,  -1.],\n",
              "       [ -1.,  -1.,  -1.,  -1.,  -5.,  -1.,  -1.,  -1.,  -1., -10.],\n",
              "       [ -1.,  -1.,  -1.,  -1.,  -5.,  -1.,  -1.,  -1.,  -1.,  -1.],\n",
              "       [ -1.,  -1.,  -1.,  -1.,  -5.,  -5.,  -5.,  -5.,  -5.,  -1.],\n",
              "       [ -1.,  -1.,  -1.,  -1.,  -5.,  -1.,  -1.,  -1.,  -1.,  -1.],\n",
              "       [ -1.,  -1.,  -1.,  -1.,  -1.,  -1.,  -1.,  -1.,  -1.,  -1.],\n",
              "       [ -5.,  -5.,  -5.,  -5.,  -5.,  -1.,  -1.,  -1.,  -1.,  -1.],\n",
              "       [ -1.,  -1.,  -1.,  -1.,  -1.,  -1.,  -1.,  -1.,  -1.,  -1.],\n",
              "       [ -1.,  -1.,  -1.,  -1.,  -1.,  -1.,  -1.,  -1.,  -1.,  -1.]])"
            ]
          },
          "metadata": {},
          "execution_count": 16
        }
      ]
    },
    {
      "cell_type": "code",
      "source": [
        "my_agent2.V_values"
      ],
      "metadata": {
        "colab": {
          "base_uri": "https://localhost:8080/"
        },
        "id": "AXIO2gDk0bIj",
        "outputId": "25bf3f42-ecf6-45ac-81e2-e3a1fefe8e43"
      },
      "execution_count": 17,
      "outputs": [
        {
          "output_type": "execute_result",
          "data": {
            "text/plain": [
              "array([[-8.34962871, -8.49612824, -6.69482939, -3.46410996, -1.2088072 ,\n",
              "         1.39092211,  4.11153852,  2.1586112 , -4.16755994, -2.06944992],\n",
              "       [-8.61176145, -9.05986908, -5.89857497, -5.28923664,  0.        ,\n",
              "         1.84382274,  6.70754237,  9.99995323, -0.99744447, -3.94432252],\n",
              "       [-8.81702586, -9.13858722, -6.25414223, -7.41115951,  0.        ,\n",
              "         1.92841329,  3.15152243,  0.16513554, -3.41286561, -9.99956444],\n",
              "       [-9.28435255, -7.25935994, -7.43090897, -8.20349518,  0.        ,\n",
              "         0.35041055, -0.2792806 , -3.47439276, -4.15570104, -8.27054123],\n",
              "       [-9.59959179, -8.54293649, -8.60071366, -8.7619721 ,  0.        ,\n",
              "         0.        ,  0.        ,  0.        ,  0.        , -8.71481433],\n",
              "       [-9.69970357, -8.87133229, -9.18309623, -9.46237915,  0.        ,\n",
              "        -9.89234419, -9.82389661, -9.48729769, -9.22544644, -9.36032393],\n",
              "       [-9.61289264, -9.75142893, -9.68041955, -9.49949428, -9.50783461,\n",
              "        -9.90468439, -9.61751987, -9.61606   , -9.84254342, -9.74818365],\n",
              "       [ 0.        ,  0.        ,  0.        ,  0.        ,  0.        ,\n",
              "        -9.71477404, -9.67687332, -9.91524278, -9.92111737, -9.84003537],\n",
              "       [-9.9914864 , -9.99270692, -9.9825175 , -9.98284622, -9.77401522,\n",
              "        -9.7072474 , -9.9677052 , -9.85880107, -9.83887561, -9.83993939],\n",
              "       [-9.9856917 , -9.99030854, -9.96669291, -9.9756209 , -9.82941788,\n",
              "        -9.78771553, -9.85895425, -9.81334562, -9.77171232, -9.71974355]])"
            ]
          },
          "metadata": {},
          "execution_count": 17
        }
      ]
    },
    {
      "cell_type": "code",
      "source": [
        "my_agent2.plot_policy_path()"
      ],
      "metadata": {
        "colab": {
          "base_uri": "https://localhost:8080/",
          "height": 409
        },
        "id": "oSxUiNLwIllC",
        "outputId": "46254567-2b74-4c29-c371-6362add9e5e7"
      },
      "execution_count": 15,
      "outputs": [
        {
          "output_type": "display_data",
          "data": {
            "text/plain": [
              "<Figure size 640x480 with 1 Axes>"
            ],
            "image/png": "[encoded data removed]"
          },
          "metadata": {}
        }
      ]
    },
    {
      "cell_type": "code",
      "source": [],
      "metadata": {
        "id": "c5WTBlKjIq4k"
      },
      "execution_count": null,
      "outputs": []
    }
  ]
}